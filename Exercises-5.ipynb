{
 "cells": [
  {
   "cell_type": "code",
   "execution_count": 1,
   "metadata": {},
   "outputs": [],
   "source": [
    "%matplotlib inline\n",
    "import pandas as pd"
   ]
  },
  {
   "cell_type": "code",
   "execution_count": 2,
   "metadata": {},
   "outputs": [
    {
     "data": {
      "text/html": [
       "<style>body {\n",
       "    margin: 0;\n",
       "    font-family: Helvetica;\n",
       "}\n",
       "table.dataframe {\n",
       "    border-collapse: collapse;\n",
       "    border: none;\n",
       "}\n",
       "table.dataframe tr {\n",
       "    border: none;\n",
       "}\n",
       "table.dataframe td, table.dataframe th {\n",
       "    margin: 0;\n",
       "    border: 1px solid white;\n",
       "    padding-left: 0.25em;\n",
       "    padding-right: 0.25em;\n",
       "}\n",
       "table.dataframe th:not(:empty) {\n",
       "    background-color: #fec;\n",
       "    text-align: left;\n",
       "    font-weight: normal;\n",
       "}\n",
       "table.dataframe tr:nth-child(2) th:empty {\n",
       "    border-left: none;\n",
       "    border-right: 1px dashed #888;\n",
       "}\n",
       "table.dataframe td {\n",
       "    border: 2px solid #ccf;\n",
       "    background-color: #f4f4ff;\n",
       "}\n",
       "h3 {\n",
       "    color: white;\n",
       "    background-color: black;\n",
       "    padding: 0.5em;\n",
       "}\n",
       "</style>"
      ],
      "text/plain": [
       "<IPython.core.display.HTML object>"
      ]
     },
     "execution_count": 2,
     "metadata": {},
     "output_type": "execute_result"
    }
   ],
   "source": [
    "from IPython.core.display import HTML\n",
    "css = open('style-table.css').read() + open('style-notebook.css').read()\n",
    "HTML('<style>{}</style>'.format(css))"
   ]
  },
  {
   "cell_type": "code",
   "execution_count": 3,
   "metadata": {},
   "outputs": [
    {
     "data": {
      "text/html": [
       "<div>\n",
       "<style scoped>\n",
       "    .dataframe tbody tr th:only-of-type {\n",
       "        vertical-align: middle;\n",
       "    }\n",
       "\n",
       "    .dataframe tbody tr th {\n",
       "        vertical-align: top;\n",
       "    }\n",
       "\n",
       "    .dataframe thead th {\n",
       "        text-align: right;\n",
       "    }\n",
       "</style>\n",
       "<table border=\"1\" class=\"dataframe\">\n",
       "  <thead>\n",
       "    <tr style=\"text-align: right;\">\n",
       "      <th></th>\n",
       "      <th>title</th>\n",
       "      <th>year</th>\n",
       "      <th>name</th>\n",
       "      <th>type</th>\n",
       "      <th>character</th>\n",
       "      <th>n</th>\n",
       "    </tr>\n",
       "  </thead>\n",
       "  <tbody>\n",
       "    <tr>\n",
       "      <th>0</th>\n",
       "      <td>Closet Monster</td>\n",
       "      <td>2015</td>\n",
       "      <td>Buffy #1</td>\n",
       "      <td>actor</td>\n",
       "      <td>Buffy 4</td>\n",
       "      <td>31.0</td>\n",
       "    </tr>\n",
       "    <tr>\n",
       "      <th>1</th>\n",
       "      <td>Suuri illusioni</td>\n",
       "      <td>1985</td>\n",
       "      <td>Homo $</td>\n",
       "      <td>actor</td>\n",
       "      <td>Guests</td>\n",
       "      <td>22.0</td>\n",
       "    </tr>\n",
       "    <tr>\n",
       "      <th>2</th>\n",
       "      <td>Battle of the Sexes</td>\n",
       "      <td>2017</td>\n",
       "      <td>$hutter</td>\n",
       "      <td>actor</td>\n",
       "      <td>Bobby Riggs Fan</td>\n",
       "      <td>10.0</td>\n",
       "    </tr>\n",
       "    <tr>\n",
       "      <th>3</th>\n",
       "      <td>Secret in Their Eyes</td>\n",
       "      <td>2015</td>\n",
       "      <td>$hutter</td>\n",
       "      <td>actor</td>\n",
       "      <td>2002 Dodger Fan</td>\n",
       "      <td>NaN</td>\n",
       "    </tr>\n",
       "    <tr>\n",
       "      <th>4</th>\n",
       "      <td>Steve Jobs</td>\n",
       "      <td>2015</td>\n",
       "      <td>$hutter</td>\n",
       "      <td>actor</td>\n",
       "      <td>1988 Opera House Patron</td>\n",
       "      <td>NaN</td>\n",
       "    </tr>\n",
       "  </tbody>\n",
       "</table>\n",
       "</div>"
      ],
      "text/plain": [
       "                  title  year      name   type                character     n\n",
       "0        Closet Monster  2015  Buffy #1  actor                  Buffy 4  31.0\n",
       "1       Suuri illusioni  1985    Homo $  actor                   Guests  22.0\n",
       "2   Battle of the Sexes  2017   $hutter  actor          Bobby Riggs Fan  10.0\n",
       "3  Secret in Their Eyes  2015   $hutter  actor          2002 Dodger Fan   NaN\n",
       "4            Steve Jobs  2015   $hutter  actor  1988 Opera House Patron   NaN"
      ]
     },
     "execution_count": 3,
     "metadata": {},
     "output_type": "execute_result"
    }
   ],
   "source": [
    "cast = pd.read_csv('data/cast.csv')\n",
    "cast.head()"
   ]
  },
  {
   "cell_type": "code",
   "execution_count": 4,
   "metadata": {},
   "outputs": [
    {
     "data": {
      "text/html": [
       "<div>\n",
       "<style scoped>\n",
       "    .dataframe tbody tr th:only-of-type {\n",
       "        vertical-align: middle;\n",
       "    }\n",
       "\n",
       "    .dataframe tbody tr th {\n",
       "        vertical-align: top;\n",
       "    }\n",
       "\n",
       "    .dataframe thead th {\n",
       "        text-align: right;\n",
       "    }\n",
       "</style>\n",
       "<table border=\"1\" class=\"dataframe\">\n",
       "  <thead>\n",
       "    <tr style=\"text-align: right;\">\n",
       "      <th></th>\n",
       "      <th>title</th>\n",
       "      <th>year</th>\n",
       "      <th>country</th>\n",
       "      <th>date</th>\n",
       "    </tr>\n",
       "  </thead>\n",
       "  <tbody>\n",
       "    <tr>\n",
       "      <th>0</th>\n",
       "      <td>#73, Shaanthi Nivaasa</td>\n",
       "      <td>2007</td>\n",
       "      <td>India</td>\n",
       "      <td>2007-06-15</td>\n",
       "    </tr>\n",
       "    <tr>\n",
       "      <th>1</th>\n",
       "      <td>#BKKY</td>\n",
       "      <td>2016</td>\n",
       "      <td>Cambodia</td>\n",
       "      <td>2017-10-12</td>\n",
       "    </tr>\n",
       "    <tr>\n",
       "      <th>2</th>\n",
       "      <td>#Beings</td>\n",
       "      <td>2015</td>\n",
       "      <td>Romania</td>\n",
       "      <td>2015-01-29</td>\n",
       "    </tr>\n",
       "    <tr>\n",
       "      <th>3</th>\n",
       "      <td>#Captured</td>\n",
       "      <td>2017</td>\n",
       "      <td>USA</td>\n",
       "      <td>2017-09-05</td>\n",
       "    </tr>\n",
       "    <tr>\n",
       "      <th>4</th>\n",
       "      <td>#Ewankosau saranghaeyo</td>\n",
       "      <td>2015</td>\n",
       "      <td>Philippines</td>\n",
       "      <td>2015-01-21</td>\n",
       "    </tr>\n",
       "  </tbody>\n",
       "</table>\n",
       "</div>"
      ],
      "text/plain": [
       "                    title  year      country       date\n",
       "0   #73, Shaanthi Nivaasa  2007        India 2007-06-15\n",
       "1                   #BKKY  2016     Cambodia 2017-10-12\n",
       "2                 #Beings  2015      Romania 2015-01-29\n",
       "3               #Captured  2017          USA 2017-09-05\n",
       "4  #Ewankosau saranghaeyo  2015  Philippines 2015-01-21"
      ]
     },
     "execution_count": 4,
     "metadata": {},
     "output_type": "execute_result"
    }
   ],
   "source": [
    "release_dates = pd.read_csv('data/release_dates.csv',\n",
    "                                      parse_dates=['date'], infer_datetime_format=True)\n",
    "release_dates.head()"
   ]
  },
  {
   "cell_type": "code",
   "execution_count": 16,
   "metadata": {},
   "outputs": [],
   "source": [
    "month_dict = {'idx': [1,2,3,4,5,6,7,8,9,10,11,12],\n",
    "              'label': ['Jan','Feb','Mar','Apr','May','Jun','Jul','Aug','Sep','Oct','Nov','Dec']}\n",
    "month_df = pd.DataFrame(month_dict).set_index('idx')\n",
    "\n",
    "day_dict = {'idx': [0,1,2,3,4,5,6],\n",
    "           'label': ['Sunday', 'Monday', 'Tuesday', 'Wednusday', 'Thrusday', 'Friday', 'Saturday']}\n",
    "day_df = pd.DataFrame(data= day_dict).set_index('idx')"
   ]
  },
  {
   "cell_type": "markdown",
   "metadata": {
    "collapsed": true
   },
   "source": [
    "### Make a bar plot of the months in which movies with \"Christmas\" in their title tend to be released in the USA."
   ]
  },
  {
   "cell_type": "code",
   "execution_count": 6,
   "metadata": {},
   "outputs": [
    {
     "data": {
      "text/plain": [
       "<matplotlib.axes._subplots.AxesSubplot at 0x1168de048>"
      ]
     },
     "execution_count": 6,
     "metadata": {},
     "output_type": "execute_result"
    },
    {
     "data": {
      "image/png": "[encoded data removed]",
      "text/plain": [
       "<Figure size 432x288 with 1 Axes>"
      ]
     },
     "metadata": {
      "needs_background": "light"
     },
     "output_type": "display_data"
    }
   ],
   "source": [
    "h = release_dates[(release_dates.title.str.contains('Christmas', case=False)) & (release_dates.country == 'USA')]\n",
    "h = h.groupby(by = h.date.dt.month).size()\n",
    "result = pd.concat([h.rename('value'),month_df], axis = 1).fillna(0)\n",
    "result = result.set_index(result['label'])\n",
    "result.plot(kind='bar')"
   ]
  },
  {
   "cell_type": "code",
   "execution_count": null,
   "metadata": {},
   "outputs": [],
   "source": []
  },
  {
   "cell_type": "code",
   "execution_count": null,
   "metadata": {},
   "outputs": [],
   "source": []
  },
  {
   "cell_type": "markdown",
   "metadata": {
    "collapsed": true
   },
   "source": [
    "### Make a bar plot of the months in which movies whose titles start with \"The Hobbit\" are released in the USA."
   ]
  },
  {
   "cell_type": "code",
   "execution_count": 7,
   "metadata": {},
   "outputs": [
    {
     "data": {
      "text/plain": [
       "<matplotlib.axes._subplots.AxesSubplot at 0x11726cbe0>"
      ]
     },
     "execution_count": 7,
     "metadata": {},
     "output_type": "execute_result"
    },
    {
     "data": {
      "image/png": "[encoded data removed]",
      "text/plain": [
       "<Figure size 432x288 with 1 Axes>"
      ]
     },
     "metadata": {
      "needs_background": "light"
     },
     "output_type": "display_data"
    }
   ],
   "source": [
    "h = release_dates[(release_dates.title.str.contains('The Hobbit', case=False)) & (release_dates.country == 'USA')]\n",
    "h = h.groupby(by = h.date.dt.month).size()\n",
    "result = pd.concat([h.rename('value'),month_df], axis = 1).fillna(0)\n",
    "result = result.set_index(result['label'])\n",
    "result.plot(kind='bar')"
   ]
  },
  {
   "cell_type": "code",
   "execution_count": null,
   "metadata": {},
   "outputs": [],
   "source": []
  },
  {
   "cell_type": "markdown",
   "metadata": {
    "collapsed": true
   },
   "source": [
    "### Make a bar plot of the day of the week on which movies with \"Romance\" in their title tend to be released in the USA."
   ]
  },
  {
   "cell_type": "code",
   "execution_count": 27,
   "metadata": {},
   "outputs": [
    {
     "data": {
      "text/plain": [
       "<matplotlib.axes._subplots.AxesSubplot at 0x11a707668>"
      ]
     },
     "execution_count": 27,
     "metadata": {},
     "output_type": "execute_result"
    },
    {
     "data": {
      "image/png": "[encoded data removed]",
      "text/plain": [
       "<Figure size 432x288 with 1 Axes>"
      ]
     },
     "metadata": {
      "needs_background": "light"
     },
     "output_type": "display_data"
    }
   ],
   "source": [
    "h = release_dates[(release_dates.title.str.contains('romance', case=False)) & (release_dates.country == 'USA')]\n",
    "h = h.date.dt.dayofweek.value_counts().sort_index()\n",
    "h = pd.concat([h.rename('day'), day_df], axis = 1)\n",
    "h.set_index('label').plot(kind='bar')"
   ]
  },
  {
   "cell_type": "markdown",
   "metadata": {
    "collapsed": true
   },
   "source": [
    "### Make a bar plot of the day of the week on which movies with \"Action\" in their title tend to be released in the USA."
   ]
  },
  {
   "cell_type": "code",
   "execution_count": 29,
   "metadata": {},
   "outputs": [
    {
     "data": {
      "text/plain": [
       "<matplotlib.axes._subplots.AxesSubplot at 0x11a7dbdd8>"
      ]
     },
     "execution_count": 29,
     "metadata": {},
     "output_type": "execute_result"
    },
    {
     "data": {
      "image/png": "[encoded data removed]",
      "text/plain": [
       "<Figure size 432x288 with 1 Axes>"
      ]
     },
     "metadata": {
      "needs_background": "light"
     },
     "output_type": "display_data"
    }
   ],
   "source": [
    "h = release_dates[(release_dates.title.str.contains('Action')) & (release_dates.country == 'USA')]\n",
    "h = h.date.dt.dayofweek.value_counts().sort_index()\n",
    "h = pd.concat([h.rename('day'), day_df], axis = 1)\n",
    "h.set_index('label').plot(kind='bar')"
   ]
  },
  {
   "cell_type": "code",
   "execution_count": null,
   "metadata": {},
   "outputs": [],
   "source": []
  },
  {
   "cell_type": "markdown",
   "metadata": {
    "collapsed": true
   },
   "source": [
    "### On which date was each Judi Dench movie from the 1990s released in the USA?"
   ]
  },
  {
   "cell_type": "code",
   "execution_count": 75,
   "metadata": {},
   "outputs": [
    {
     "data": {
      "text/html": [
       "<div>\n",
       "<style scoped>\n",
       "    .dataframe tbody tr th:only-of-type {\n",
       "        vertical-align: middle;\n",
       "    }\n",
       "\n",
       "    .dataframe tbody tr th {\n",
       "        vertical-align: top;\n",
       "    }\n",
       "\n",
       "    .dataframe thead th {\n",
       "        text-align: right;\n",
       "    }\n",
       "</style>\n",
       "<table border=\"1\" class=\"dataframe\">\n",
       "  <thead>\n",
       "    <tr style=\"text-align: right;\">\n",
       "      <th></th>\n",
       "      <th>title</th>\n",
       "      <th>year</th>\n",
       "      <th>name</th>\n",
       "      <th>type</th>\n",
       "      <th>character</th>\n",
       "      <th>n</th>\n",
       "      <th>country</th>\n",
       "      <th>date</th>\n",
       "    </tr>\n",
       "  </thead>\n",
       "  <tbody>\n",
       "    <tr>\n",
       "      <th>0</th>\n",
       "      <td>GoldenEye</td>\n",
       "      <td>1995</td>\n",
       "      <td>Judi Dench</td>\n",
       "      <td>actress</td>\n",
       "      <td>M</td>\n",
       "      <td>6.0</td>\n",
       "      <td>USA</td>\n",
       "      <td>1995-11-17</td>\n",
       "    </tr>\n",
       "    <tr>\n",
       "      <th>2</th>\n",
       "      <td>Jack &amp; Sarah</td>\n",
       "      <td>1995</td>\n",
       "      <td>Judi Dench</td>\n",
       "      <td>actress</td>\n",
       "      <td>Margaret</td>\n",
       "      <td>3.0</td>\n",
       "      <td>USA</td>\n",
       "      <td>1996-03-22</td>\n",
       "    </tr>\n",
       "    <tr>\n",
       "      <th>1</th>\n",
       "      <td>Hamlet</td>\n",
       "      <td>1996</td>\n",
       "      <td>Judi Dench</td>\n",
       "      <td>actress</td>\n",
       "      <td>Hecuba</td>\n",
       "      <td>12.0</td>\n",
       "      <td>USA</td>\n",
       "      <td>1996-12-25</td>\n",
       "    </tr>\n",
       "    <tr>\n",
       "      <th>3</th>\n",
       "      <td>Mrs Brown</td>\n",
       "      <td>1997</td>\n",
       "      <td>Judi Dench</td>\n",
       "      <td>actress</td>\n",
       "      <td>Queen Victoria</td>\n",
       "      <td>1.0</td>\n",
       "      <td>USA</td>\n",
       "      <td>1997-10-03</td>\n",
       "    </tr>\n",
       "    <tr>\n",
       "      <th>7</th>\n",
       "      <td>Tomorrow Never Dies</td>\n",
       "      <td>1997</td>\n",
       "      <td>Judi Dench</td>\n",
       "      <td>actress</td>\n",
       "      <td>M</td>\n",
       "      <td>9.0</td>\n",
       "      <td>USA</td>\n",
       "      <td>1997-12-19</td>\n",
       "    </tr>\n",
       "    <tr>\n",
       "      <th>4</th>\n",
       "      <td>Shakespeare in Love</td>\n",
       "      <td>1998</td>\n",
       "      <td>Judi Dench</td>\n",
       "      <td>actress</td>\n",
       "      <td>Queen Elizabeth</td>\n",
       "      <td>12.0</td>\n",
       "      <td>USA</td>\n",
       "      <td>1999-01-08</td>\n",
       "    </tr>\n",
       "    <tr>\n",
       "      <th>5</th>\n",
       "      <td>Tea with Mussolini</td>\n",
       "      <td>1999</td>\n",
       "      <td>Judi Dench</td>\n",
       "      <td>actress</td>\n",
       "      <td>Arabella</td>\n",
       "      <td>2.0</td>\n",
       "      <td>USA</td>\n",
       "      <td>1999-05-14</td>\n",
       "    </tr>\n",
       "    <tr>\n",
       "      <th>6</th>\n",
       "      <td>The World Is Not Enough</td>\n",
       "      <td>1999</td>\n",
       "      <td>Judi Dench</td>\n",
       "      <td>actress</td>\n",
       "      <td>M</td>\n",
       "      <td>6.0</td>\n",
       "      <td>USA</td>\n",
       "      <td>1999-11-19</td>\n",
       "    </tr>\n",
       "  </tbody>\n",
       "</table>\n",
       "</div>"
      ],
      "text/plain": [
       "                     title  year        name     type        character     n  \\\n",
       "0                GoldenEye  1995  Judi Dench  actress                M   6.0   \n",
       "2             Jack & Sarah  1995  Judi Dench  actress         Margaret   3.0   \n",
       "1                   Hamlet  1996  Judi Dench  actress           Hecuba  12.0   \n",
       "3                Mrs Brown  1997  Judi Dench  actress   Queen Victoria   1.0   \n",
       "7      Tomorrow Never Dies  1997  Judi Dench  actress                M   9.0   \n",
       "4      Shakespeare in Love  1998  Judi Dench  actress  Queen Elizabeth  12.0   \n",
       "5       Tea with Mussolini  1999  Judi Dench  actress         Arabella   2.0   \n",
       "6  The World Is Not Enough  1999  Judi Dench  actress                M   6.0   \n",
       "\n",
       "  country       date  \n",
       "0     USA 1995-11-17  \n",
       "2     USA 1996-03-22  \n",
       "1     USA 1996-12-25  \n",
       "3     USA 1997-10-03  \n",
       "7     USA 1997-12-19  \n",
       "4     USA 1999-01-08  \n",
       "5     USA 1999-05-14  \n",
       "6     USA 1999-11-19  "
      ]
     },
     "execution_count": 75,
     "metadata": {},
     "output_type": "execute_result"
    }
   ],
   "source": [
    "c = cast[(cast.name == 'Judi Dench') & (cast.year // 10 == 199)]\n",
    "r = release_dates[release_dates.country == 'USA']\n",
    "c.merge(r, on=['title','year']).sort_values('date')"
   ]
  },
  {
   "cell_type": "markdown",
   "metadata": {
    "collapsed": true
   },
   "source": [
    "### In which months do films with Judi Dench tend to be released in the USA?"
   ]
  },
  {
   "cell_type": "code",
   "execution_count": 84,
   "metadata": {},
   "outputs": [
    {
     "data": {
      "text/plain": [
       "<matplotlib.axes._subplots.AxesSubplot at 0x13032c978>"
      ]
     },
     "execution_count": 84,
     "metadata": {},
     "output_type": "execute_result"
    },
    {
     "data": {
      "image/png": "[encoded data removed]",
      "text/plain": [
       "<Figure size 432x288 with 1 Axes>"
      ]
     },
     "metadata": {
      "needs_background": "light"
     },
     "output_type": "display_data"
    }
   ],
   "source": [
    "c = cast[(cast.name == 'Judi Dench')]\n",
    "r = release_dates[release_dates.country == 'USA']\n",
    "result = c.merge(r, on=['title','year']).date.dt.month.value_counts()\n",
    "pd.concat([result, month_df], axis = 1).set_index('label').plot(kind='bar')"
   ]
  },
  {
   "cell_type": "markdown",
   "metadata": {
    "collapsed": true
   },
   "source": [
    "### In which months do films with Tom Cruise tend to be released in the USA?"
   ]
  },
  {
   "cell_type": "code",
   "execution_count": 94,
   "metadata": {},
   "outputs": [
    {
     "data": {
      "text/plain": [
       "<matplotlib.axes._subplots.AxesSubplot at 0x1396429e8>"
      ]
     },
     "execution_count": 94,
     "metadata": {},
     "output_type": "execute_result"
    },
    {
     "data": {
      "image/png": "[encoded data removed]",
      "text/plain": [
       "<Figure size 432x288 with 1 Axes>"
      ]
     },
     "metadata": {
      "needs_background": "light"
     },
     "output_type": "display_data"
    }
   ],
   "source": [
    "c = cast[cast.name == 'Tom Cruise']\n",
    "r = release_dates[release_dates.country == 'USA']\n",
    "result = c.merge(r, on=['title','year'])\n",
    "result = result.date.dt.month.value_counts()\n",
    "pd.concat([result, month_df], axis = 1).set_index('label').fillna(0).plot(kind='bar')"
   ]
  },
  {
   "cell_type": "code",
   "execution_count": null,
   "metadata": {},
   "outputs": [],
   "source": []
  }
 ],
 "metadata": {
  "kernelspec": {
   "display_name": "Python 3",
   "language": "python",
   "name": "python3"
  },
  "language_info": {
   "codemirror_mode": {
    "name": "ipython",
    "version": 3
   },
   "file_extension": ".py",
   "mimetype": "text/x-python",
   "name": "python",
   "nbconvert_exporter": "python",
   "pygments_lexer": "ipython3",
   "version": "3.7.3"
  }
 },
 "nbformat": 4,
 "nbformat_minor": 1
}
